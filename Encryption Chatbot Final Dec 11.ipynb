{
 "cells": [
  {
   "cell_type": "markdown",
   "metadata": {},
   "source": [
    "This project is designed to be a chatbot that can act as a calculator or an encryptor. The project takes input strings and then can run functions according to the output. The 2 available functions are either a calculator or an encryption / decryption function. The calculator can add, subtract, multiply, divide, and raise to a power any number of integers, and can provide a remainder for 2 integers.\n",
    "\n",
    "For the chatbot to work, please input either 'add', 'subtract', 'multiply', 'divide', 'remainder', or 'power' to activate the calculator, or 'encrypt' or 'decrypt' to activate the encryption function. Once this is done, please enter the numbers you would like to calculate, separated by spaces. If using the encryption or decryption functions, when prompted please input the phrase you would like encrypted or decrypted.\n",
    "\n",
    "To exit the chatbot, please type 'quit'."
   ]
  },
  {
   "cell_type": "code",
   "execution_count": 1,
   "metadata": {},
   "outputs": [],
   "source": [
    "# import string and random\n",
    "import string\n",
    "import random"
   ]
  },
  {
   "cell_type": "code",
   "execution_count": 2,
   "metadata": {},
   "outputs": [],
   "source": [
    "# remove punctuation from the user's input\n",
    "def remove_punctuation(input_string):\n",
    "    out_string = ''\n",
    "    for char in input_string:\n",
    "        if char not in string.punctuation:\n",
    "            out_string += char\n",
    "        else:\n",
    "            continue\n",
    "    return out_string"
   ]
  },
  {
   "cell_type": "code",
   "execution_count": 3,
   "metadata": {},
   "outputs": [],
   "source": [
    "# prepare input text for the functions.\n",
    "input_string = ''\n",
    "def prepare_text(input_string):\n",
    "    temp_string = input_string.lower()\n",
    "    temp_string = remove_punctuation(temp_string)\n",
    "    out_list = temp_string.split()\n",
    "    return out_list "
   ]
  },
  {
   "cell_type": "code",
   "execution_count": 4,
   "metadata": {},
   "outputs": [],
   "source": [
    "# selector function to choose which response to use\n",
    "input_list = []\n",
    "check_list = []\n",
    "return_list = []\n",
    "def selector(input_list, check_list, return_list):\n",
    "    output = None\n",
    "    for item in input_list:\n",
    "        if item in check_list:\n",
    "            output = random.choice(return_list)\n",
    "            continue\n",
    "        else:\n",
    "            output = None\n",
    "    return output"
   ]
  },
  {
   "cell_type": "code",
   "execution_count": 5,
   "metadata": {},
   "outputs": [],
   "source": [
    "# prepare the numbers from the input string\n",
    "def prepare_numbers(numbers):\n",
    "    numb = []\n",
    "    for item in numbers:\n",
    "        numb.append(int(item))\n",
    "    return numb"
   ]
  },
  {
   "cell_type": "code",
   "execution_count": 6,
   "metadata": {},
   "outputs": [],
   "source": [
    "# Function for the calculator operation\n",
    "def calculate(numbers, operator):\n",
    "    if operator == 'add':\n",
    "        return add(prepare_numbers(numbers))\n",
    "    elif operator == 'subtract':\n",
    "        return subtract(prepare_numbers(numbers))\n",
    "    elif operator == 'multiply':\n",
    "        return multiply(prepare_numbers(numbers))\n",
    "    elif operator == 'divide':\n",
    "        return divide(prepare_numbers(numbers))\n",
    "    elif operator == 'remainder':\n",
    "        return remainder(prepare_numbers(numbers))\n",
    "    elif operator == 'power':\n",
    "        return power(prepare_numbers(numbers))"
   ]
  },
  {
   "cell_type": "code",
   "execution_count": 7,
   "metadata": {},
   "outputs": [],
   "source": [
    "# Define end chat function to end the chat\n",
    "input_list = []\n",
    "def end_chat(input_list):\n",
    "    if str('quit') in input_list:\n",
    "        output = True\n",
    "        return output\n",
    "    else:\n",
    "        output = False\n",
    "        return output"
   ]
  },
  {
   "cell_type": "code",
   "execution_count": 8,
   "metadata": {},
   "outputs": [],
   "source": [
    "# Encryption code for the encryption function\n",
    "def encryption(msg):\n",
    "    start_key = 123\n",
    "    key_increment = 4\n",
    "    string = []\n",
    "    encoded = []\n",
    "    key = start_key\n",
    "    message = msg\n",
    "    for c in range(0, len(message)):\n",
    "        code = ord(message[c])\n",
    "        change = code+key\n",
    "        new = chr(change)\n",
    "        string += new\n",
    "        key += key_increment\n",
    "    \n",
    "    encoded = ''.join(string)\n",
    "    return ('Encoded Message:\\t' + encoded)"
   ]
  },
  {
   "cell_type": "code",
   "execution_count": 9,
   "metadata": {},
   "outputs": [],
   "source": [
    "# Decryption code for the decryption function\n",
    "def decryption(msg):\n",
    "    start_key = 123\n",
    "    key_increment = 4\n",
    "    string = []\n",
    "    decoded = []\n",
    "    key = start_key\n",
    "    message = msg\n",
    "    for c in range(0, len(message)):\n",
    "        code = ord(message[c])\n",
    "        change = code-key\n",
    "        new = chr(change)\n",
    "        string += new\n",
    "        key += key_increment\n",
    "    decoded = ''.join(string)\n",
    "    return ('Decoded Message:\\t' + decoded)"
   ]
  },
  {
   "cell_type": "code",
   "execution_count": 10,
   "metadata": {},
   "outputs": [],
   "source": [
    "# Functions for the calculator\n",
    "# Add Function\n",
    "def add(numbers):\n",
    "    result = numbers[0]\n",
    "    for n in numbers[1:]:\n",
    "        result = n + result\n",
    "    return result\n",
    "\n",
    "#Subtract Function\n",
    "def subtract(numbers):\n",
    "    result = numbers[0]\n",
    "    for n in numbers[1:]:\n",
    "        result = result - n\n",
    "    return result\n",
    "\n",
    "# Multiply Function\n",
    "def multiply(numbers):\n",
    "    result = numbers[0]\n",
    "    for n in numbers[1:]:\n",
    "        result = n * result\n",
    "    return result\n",
    "\n",
    "# Divide Function\n",
    "def divide(numbers):\n",
    "    result = numbers[0]\n",
    "    for n in numbers[1:]:\n",
    "        result = result / n\n",
    "    return result\n",
    "\n",
    "# Remainder Function\n",
    "def remainder(numbers):\n",
    "    return numbers[0] % numbers[1]\n",
    "\n",
    "# Power Function\n",
    "def power(numbers):\n",
    "    result = numbers[0]\n",
    "    for n in numbers[1:]:\n",
    "        result = result ** n\n",
    "    return result"
   ]
  },
  {
   "cell_type": "code",
   "execution_count": 14,
   "metadata": {},
   "outputs": [],
   "source": [
    "#Define the chatbot\n",
    "def wiri():\n",
    "    \n",
    "    chat = True\n",
    "    #Print opening statements to print\n",
    "    print('Hello, I am Wiri. Choose either encrypt, add, subtract, multiply, divide, remainder, or power.')\n",
    "    print('If using remainder, input only two numbers. For the calculator, input numbers separated by a space or comma.')\n",
    "    print('If using encrypt please write encrypt then in the next messsage input the text to encrypt.')\n",
    "    print(\"To exit the chatbot, please enter 'quit'\")\n",
    "    \n",
    "    while chat:\n",
    "        \n",
    "        # Get a message from the user\n",
    "        msg = input('Input :\\t')\n",
    "        out_msg = None\n",
    "\n",
    "        # Prepare the input message\n",
    "        msg = prepare_text(msg)\n",
    "\n",
    "        # Check for an end msg \n",
    "        if end_chat(msg):\n",
    "            out_msg = 'Bye!'\n",
    "            chat = False\n",
    "\n",
    "        # Check for a selection of topics that we have defined to respond to\n",
    "        if not end_chat(msg):\n",
    "            outs = []\n",
    "            \n",
    "            if msg[0] == 'encrypt':\n",
    "                message = input ('What message do you want to encrypt?')\n",
    "                outs.append(encryption(message))\n",
    "            elif msg[0] == 'decrypt':\n",
    "                message = input ('What message do you want to decrypt?')\n",
    "                outs.append(decryption(message))\n",
    "            elif msg[0] == 'add' or msg[0] =='subtract' or msg[0] =='multiply' or msg[0] =='divide' or msg[0] =='remainder' or msg[0] =='power':\n",
    "                message = input ('What numbers do you want to calculate?')\n",
    "                outs.append(calculate(prepare_text(message), msg[0]))\n",
    "            else:\n",
    "                outs.append(\"Error please enter one of the options at the beginning of the chat\")\n",
    "                \n",
    "            out_msg = outs[0]\n",
    "            \n",
    "        print('OUTPUT:', out_msg)"
   ]
  },
  {
   "cell_type": "code",
   "execution_count": 15,
   "metadata": {},
   "outputs": [
    {
     "name": "stdout",
     "output_type": "stream",
     "text": [
      "Hello, I am Wiri. Choose either encrypt, add, subtract, multiply, divide, remainder, or power.\n",
      "If using remainder, input only two numbers. For the calculator, input numbers separated by a space or comma.\n",
      "If using encrypt please write encrypt then in the next messsage input the text to encrypt.\n",
      "To exit the chatbot, please enter 'quit'\n",
      "Input :\they\n",
      "OUTPUT: Error please enter one of the options at the beginning of the chat\n",
      "Input :\thello\n",
      "OUTPUT: Error please enter one of the options at the beginning of the chat\n",
      "Input :\tadd\n",
      "What numbers do you want to calculate?1 5\n",
      "OUTPUT: 6\n",
      "Input :\tsubtract\n",
      "What numbers do you want to calculate?7777 66 88 9 3\n",
      "OUTPUT: 7611\n",
      "Input :\tquit\n",
      "OUTPUT: Bye!\n"
     ]
    }
   ],
   "source": [
    "wiri()"
   ]
  },
  {
   "cell_type": "code",
   "execution_count": null,
   "metadata": {},
   "outputs": [],
   "source": []
  }
 ],
 "metadata": {
  "kernelspec": {
   "display_name": "Python 3",
   "language": "python",
   "name": "python3"
  },
  "language_info": {
   "codemirror_mode": {
    "name": "ipython",
    "version": 3
   },
   "file_extension": ".py",
   "mimetype": "text/x-python",
   "name": "python",
   "nbconvert_exporter": "python",
   "pygments_lexer": "ipython3",
   "version": "3.7.0"
  }
 },
 "nbformat": 4,
 "nbformat_minor": 2
}
